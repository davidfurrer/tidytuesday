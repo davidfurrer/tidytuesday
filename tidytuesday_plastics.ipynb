{
 "cells": [
  {
   "cell_type": "code",
   "execution_count": 1,
   "id": "identical-symbol",
   "metadata": {},
   "outputs": [],
   "source": [
    "import pandas as pd\n",
    "import matplotlib.pyplot as plt\n",
    "import seaborn as sns"
   ]
  },
  {
   "cell_type": "markdown",
   "id": "completed-retention",
   "metadata": {},
   "source": [
    "# Introduction"
   ]
  },
  {
   "cell_type": "markdown",
   "id": "patient-temple",
   "metadata": {},
   "source": [
    "https://github.com/rfordatascience/tidytuesday/blob/master/data/2021/2021-01-26/readme.md"
   ]
  },
  {
   "cell_type": "markdown",
   "id": "inside-application",
   "metadata": {},
   "source": [
    "|variable       |class     |description |\n",
    "|:---|:---|:-----------|\n",
    "|country        |character |Country of cleanup |\n",
    "|year           |double    | Year (2019 or 2020) |\n",
    "|parent_company |character | Source of plastic |\n",
    "|empty          |double    | Category left empty count |\n",
    "|hdpe           |double    | High density polyethylene count (Plastic milk containers, plastic bags, bottle caps, trash cans, oil cans, plastic lumber, toolboxes, supplement containers) |\n",
    "|ldpe           |double    | Low density polyethylene count (Plastic bags, Ziploc bags, buckets, squeeze bottles, plastic tubes, chopping boards) |\n",
    "|o              |double    | Category marked other count |\n",
    "|pet            |double    | Polyester plastic count (Polyester fibers, soft drink bottles, food containers (also see plastic bottles) |\n",
    "|pp             |double    | Polypropylene count (Flower pots, bumpers, car interior trim, industrial fibers, carry-out beverage cups, microwavable food containers, DVD keep cases) |\n",
    "|ps             |double    | Polystyrene count (Toys, video cassettes, ashtrays, trunks, beverage/food coolers, beer cups, wine and champagne cups, carry-out food containers, Styrofoam) |\n",
    "|pvc            |double    | PVC plastic count (Window frames, bottles for chemicals, flooring, plumbing pipes) |\n",
    "|grand_total    |double    | Grand total count (all types of plastic) |\n",
    "|num_events     |double    | Number of counting events |\n",
    "|volunteers     |double    | Number of volunteers |"
   ]
  },
  {
   "cell_type": "markdown",
   "id": "royal-understanding",
   "metadata": {},
   "source": [
    "## Load data"
   ]
  },
  {
   "cell_type": "code",
   "execution_count": 2,
   "id": "differential-killer",
   "metadata": {},
   "outputs": [],
   "source": [
    "df = pd.read_csv('https://raw.githubusercontent.com/rfordatascience/tidytuesday/master/data/2021/2021-01-26/plastics.csv')"
   ]
  },
  {
   "cell_type": "code",
   "execution_count": 3,
   "id": "exclusive-warning",
   "metadata": {},
   "outputs": [
    {
     "data": {
      "text/html": [
       "<div>\n",
       "<style scoped>\n",
       "    .dataframe tbody tr th:only-of-type {\n",
       "        vertical-align: middle;\n",
       "    }\n",
       "\n",
       "    .dataframe tbody tr th {\n",
       "        vertical-align: top;\n",
       "    }\n",
       "\n",
       "    .dataframe thead th {\n",
       "        text-align: right;\n",
       "    }\n",
       "</style>\n",
       "<table border=\"1\" class=\"dataframe\">\n",
       "  <thead>\n",
       "    <tr style=\"text-align: right;\">\n",
       "      <th></th>\n",
       "      <th>country</th>\n",
       "      <th>year</th>\n",
       "      <th>parent_company</th>\n",
       "      <th>empty</th>\n",
       "      <th>hdpe</th>\n",
       "      <th>ldpe</th>\n",
       "      <th>o</th>\n",
       "      <th>pet</th>\n",
       "      <th>pp</th>\n",
       "      <th>ps</th>\n",
       "      <th>pvc</th>\n",
       "      <th>grand_total</th>\n",
       "      <th>num_events</th>\n",
       "      <th>volunteers</th>\n",
       "    </tr>\n",
       "  </thead>\n",
       "  <tbody>\n",
       "    <tr>\n",
       "      <th>0</th>\n",
       "      <td>Argentina</td>\n",
       "      <td>2019</td>\n",
       "      <td>Grand Total</td>\n",
       "      <td>0.0</td>\n",
       "      <td>215.0</td>\n",
       "      <td>55.0</td>\n",
       "      <td>607.0</td>\n",
       "      <td>1376.0</td>\n",
       "      <td>281.0</td>\n",
       "      <td>116.0</td>\n",
       "      <td>18.0</td>\n",
       "      <td>2668.0</td>\n",
       "      <td>4</td>\n",
       "      <td>243.0</td>\n",
       "    </tr>\n",
       "    <tr>\n",
       "      <th>1</th>\n",
       "      <td>Argentina</td>\n",
       "      <td>2019</td>\n",
       "      <td>Unbranded</td>\n",
       "      <td>0.0</td>\n",
       "      <td>155.0</td>\n",
       "      <td>50.0</td>\n",
       "      <td>532.0</td>\n",
       "      <td>848.0</td>\n",
       "      <td>122.0</td>\n",
       "      <td>114.0</td>\n",
       "      <td>17.0</td>\n",
       "      <td>1838.0</td>\n",
       "      <td>4</td>\n",
       "      <td>243.0</td>\n",
       "    </tr>\n",
       "    <tr>\n",
       "      <th>2</th>\n",
       "      <td>Argentina</td>\n",
       "      <td>2019</td>\n",
       "      <td>The Coca-Cola Company</td>\n",
       "      <td>0.0</td>\n",
       "      <td>0.0</td>\n",
       "      <td>0.0</td>\n",
       "      <td>0.0</td>\n",
       "      <td>222.0</td>\n",
       "      <td>35.0</td>\n",
       "      <td>0.0</td>\n",
       "      <td>0.0</td>\n",
       "      <td>257.0</td>\n",
       "      <td>4</td>\n",
       "      <td>243.0</td>\n",
       "    </tr>\n",
       "    <tr>\n",
       "      <th>3</th>\n",
       "      <td>Argentina</td>\n",
       "      <td>2019</td>\n",
       "      <td>Secco</td>\n",
       "      <td>0.0</td>\n",
       "      <td>0.0</td>\n",
       "      <td>0.0</td>\n",
       "      <td>0.0</td>\n",
       "      <td>39.0</td>\n",
       "      <td>4.0</td>\n",
       "      <td>0.0</td>\n",
       "      <td>0.0</td>\n",
       "      <td>43.0</td>\n",
       "      <td>4</td>\n",
       "      <td>243.0</td>\n",
       "    </tr>\n",
       "    <tr>\n",
       "      <th>4</th>\n",
       "      <td>Argentina</td>\n",
       "      <td>2019</td>\n",
       "      <td>Doble Cola</td>\n",
       "      <td>0.0</td>\n",
       "      <td>0.0</td>\n",
       "      <td>0.0</td>\n",
       "      <td>0.0</td>\n",
       "      <td>38.0</td>\n",
       "      <td>0.0</td>\n",
       "      <td>0.0</td>\n",
       "      <td>0.0</td>\n",
       "      <td>38.0</td>\n",
       "      <td>4</td>\n",
       "      <td>243.0</td>\n",
       "    </tr>\n",
       "  </tbody>\n",
       "</table>\n",
       "</div>"
      ],
      "text/plain": [
       "     country  year         parent_company  empty   hdpe  ldpe      o     pet  \\\n",
       "0  Argentina  2019            Grand Total    0.0  215.0  55.0  607.0  1376.0   \n",
       "1  Argentina  2019              Unbranded    0.0  155.0  50.0  532.0   848.0   \n",
       "2  Argentina  2019  The Coca-Cola Company    0.0    0.0   0.0    0.0   222.0   \n",
       "3  Argentina  2019                  Secco    0.0    0.0   0.0    0.0    39.0   \n",
       "4  Argentina  2019             Doble Cola    0.0    0.0   0.0    0.0    38.0   \n",
       "\n",
       "      pp     ps   pvc  grand_total  num_events  volunteers  \n",
       "0  281.0  116.0  18.0       2668.0           4       243.0  \n",
       "1  122.0  114.0  17.0       1838.0           4       243.0  \n",
       "2   35.0    0.0   0.0        257.0           4       243.0  \n",
       "3    4.0    0.0   0.0         43.0           4       243.0  \n",
       "4    0.0    0.0   0.0         38.0           4       243.0  "
      ]
     },
     "execution_count": 3,
     "metadata": {},
     "output_type": "execute_result"
    }
   ],
   "source": [
    "df.head()"
   ]
  },
  {
   "cell_type": "code",
   "execution_count": 4,
   "id": "interstate-trinity",
   "metadata": {},
   "outputs": [
    {
     "name": "stdout",
     "output_type": "stream",
     "text": [
      "<class 'pandas.core.frame.DataFrame'>\n",
      "RangeIndex: 13380 entries, 0 to 13379\n",
      "Data columns (total 14 columns):\n",
      " #   Column          Non-Null Count  Dtype  \n",
      "---  ------          --------------  -----  \n",
      " 0   country         13380 non-null  object \n",
      " 1   year            13380 non-null  int64  \n",
      " 2   parent_company  13329 non-null  object \n",
      " 3   empty           10137 non-null  float64\n",
      " 4   hdpe            11734 non-null  float64\n",
      " 5   ldpe            11303 non-null  float64\n",
      " 6   o               13113 non-null  float64\n",
      " 7   pet             13166 non-null  float64\n",
      " 8   pp              11884 non-null  float64\n",
      " 9   ps              11408 non-null  float64\n",
      " 10  pvc             9052 non-null   float64\n",
      " 11  grand_total     13366 non-null  float64\n",
      " 12  num_events      13380 non-null  int64  \n",
      " 13  volunteers      13273 non-null  float64\n",
      "dtypes: float64(10), int64(2), object(2)\n",
      "memory usage: 1.4+ MB\n"
     ]
    }
   ],
   "source": [
    "df.info()"
   ]
  },
  {
   "cell_type": "code",
   "execution_count": null,
   "id": "narrow-plumbing",
   "metadata": {},
   "outputs": [],
   "source": []
  }
 ],
 "metadata": {
  "kernelspec": {
   "display_name": "Python 3",
   "language": "python",
   "name": "python3"
  },
  "language_info": {
   "codemirror_mode": {
    "name": "ipython",
    "version": 3
   },
   "file_extension": ".py",
   "mimetype": "text/x-python",
   "name": "python",
   "nbconvert_exporter": "python",
   "pygments_lexer": "ipython3",
   "version": "3.7.5"
  }
 },
 "nbformat": 4,
 "nbformat_minor": 5
}
